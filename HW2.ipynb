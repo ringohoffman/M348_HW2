{
 "cells": [
  {
   "cell_type": "code",
   "execution_count": 1,
   "metadata": {
    "collapsed": true
   },
   "outputs": [],
   "source": [
    "# Name: Matthew Hoffman\n",
    "# eID: mrh3645\n",
    "# M 348 - 54360\n",
    "# HW 1\n",
    "\n",
    "import matplotlib.pyplot as plt\n",
    "import math"
   ]
  },
  {
   "cell_type": "code",
   "execution_count": 2,
   "metadata": {
    "collapsed": true
   },
   "outputs": [],
   "source": [
    "def bisection(f, a, b, tol=1e-10):\n",
    "    fa = f(a)\n",
    "    v = 1\n",
    "    if fa > 0:\n",
    "        v = -1\n",
    "    if fa * f(b) > 0:\n",
    "        raise Exception('SignError: f(a) and f(b) have the same sign')\n",
    "    x = (a + b) / 2\n",
    "    while (b - a > tol) and ((a < x < b)):\n",
    "        if v * f(x) > 0:\n",
    "            b = x\n",
    "        else:\n",
    "            a = x\n",
    "        x = (a + b) / 2\n",
    "    return x"
   ]
  },
  {
   "cell_type": "code",
   "execution_count": 3,
   "metadata": {
    "collapsed": true
   },
   "outputs": [],
   "source": [
    "def secant(f, x0, x1, tol, M):\n",
    "    \n",
    "    m = (f(x0) - f(x1)) / (x0 - x1)\n",
    "    x = -1 * f(x1) / m + x1; i=0; \n",
    "\n",
    "    while (math.fabs(x - x1) > tol and i < M):\n",
    "        x1 = x\n",
    "        m = (f(x0) - f(x1)) / (x0 - x1)\n",
    "        x = -1 * f(x1) / m + x1\n",
    "        i += 1\n",
    "\n",
    "    print(\"Number of iterations:\", i)\n",
    "    return x"
   ]
  },
  {
   "cell_type": "code",
   "execution_count": 4,
   "metadata": {
    "collapsed": true
   },
   "outputs": [],
   "source": [
    "def falsPos(f, x0, x1, tol, M):\n",
    "    \n",
    "    i=0\n",
    "    while (math.fabs(x0 - x1) > tol and i < M):\n",
    "        m = (f(x0) - f(x1)) / (x0 - x1)\n",
    "        x = -1 * f(x1) / m + x1\n",
    "        if f(x) * f(x0) > 0:\n",
    "            x0 = x\n",
    "        else:\n",
    "            x1 = x\n",
    "        i += 1\n",
    "\n",
    "    print(\"Number of iterations:\", i)\n",
    "    return x"
   ]
  },
  {
   "cell_type": "code",
   "execution_count": 8,
   "metadata": {},
   "outputs": [
    {
     "name": "stdout",
     "output_type": "stream",
     "text": [
      "0.25\n",
      "-0.4375\n",
      "-0.109375\n",
      "0.06640625\n",
      "-0.0224609375\n",
      "0.021728515625\n",
      "-0.00042724609375\n",
      "0.0106353759765625\n",
      "0.005100250244140625\n",
      "0.0023355484008789062\n",
      "0.0009539127349853516\n",
      "0.0002632737159729004\n",
      "-8.200109004974365e-05\n",
      "9.063258767127991e-05\n",
      "4.314817488193512e-06\n",
      "-3.8843369111418724e-05\n",
      "-1.726433401927352e-05\n",
      "-6.474772817455232e-06\n",
      "-1.0799813026096672e-06\n",
      "1.6174171832972206e-06\n",
      "2.687177129701013e-07\n",
      "-4.056318516632018e-07\n",
      "-6.845708355740499e-08\n",
      "1.0013031115363447e-07\n",
      "1.583661290993632e-08\n",
      "-2.6310235545778937e-08\n",
      "-5.236811428943611e-09\n"
     ]
    },
    {
     "data": {
      "text/plain": [
       "1.414213564246893"
      ]
     },
     "execution_count": 8,
     "metadata": {},
     "output_type": "execute_result"
    }
   ],
   "source": [
    "# Problem 2\n",
    "\n",
    "bisection(lambda x: x**2 - 2, 1, 2, tol=1e-8)"
   ]
  },
  {
   "cell_type": "code",
   "execution_count": 9,
   "metadata": {},
   "outputs": [
    {
     "name": "stdout",
     "output_type": "stream",
     "text": [
      "Number of iterations: 9\n",
      "f(-0.8654740320762874) = 0\n"
     ]
    }
   ],
   "source": [
    "# Problem 4\n",
    "\n",
    "# Secant Method\n",
    "print(\"f(\" + str(secant(lambda x: -1 * x**3 - math.cos(x), -1 , 0, 1e-8, 20)) + \") = 0\")"
   ]
  },
  {
   "cell_type": "code",
   "execution_count": 10,
   "metadata": {},
   "outputs": [
    {
     "name": "stdout",
     "output_type": "stream",
     "text": [
      "Number of iterations: 19\n",
      "f(-0.8654740331016145) = 0\n"
     ]
    }
   ],
   "source": [
    "# False Position Method\n",
    "print(\"f(\" + str(falsPos(lambda x: -1 * x**3 - math.cos(x), -1 , 0, 1e-8, 20)) + \") = 0\")"
   ]
  }
 ],
 "metadata": {
  "kernelspec": {
   "display_name": "Python 3",
   "language": "python",
   "name": "python3"
  },
  "language_info": {
   "codemirror_mode": {
    "name": "ipython",
    "version": 3
   },
   "file_extension": ".py",
   "mimetype": "text/x-python",
   "name": "python",
   "nbconvert_exporter": "python",
   "pygments_lexer": "ipython3",
   "version": "3.6.1"
  }
 },
 "nbformat": 4,
 "nbformat_minor": 2
}
